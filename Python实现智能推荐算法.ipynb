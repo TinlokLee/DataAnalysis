{
 "cells": [
  {
   "cell_type": "markdown",
   "metadata": {},
   "source": [
    "https://www.kesci.com/mw/project/5f3b9309af3980002cbeaa14/content\n",
    "智能推荐和泛的营销完全不同，后者是将产品卖给客户作为最终目标；而智能推荐是以“客户需求”为导向的，是给客户带来价值的。常见的如淘宝的 “你可能还喜欢”，亚马逊的 “购买此商品的用户也购买了” 便是实例。本项目就将详细介绍如何用Python实现智能推荐算法，主要将分为两个部分：\n",
    "\n",
    "详细原理介绍\n",
    "Python代码实战\n",
    "常见的推荐系统与算法\n",
    "\n",
    "常见的推荐系统分类有：\n",
    "\n",
    "基于应用领域: 电子商务/社交好友推荐等\n",
    "\n",
    "基于设计思想: 基于协同过滤的推荐等\n",
    "\n",
    "基于使用数据: 基于用户标签的推荐等"
   ]
  },
  {
   "cell_type": "code",
   "execution_count": 18,
   "metadata": {},
   "outputs": [],
   "source": [
    "import pandas as pd\n",
    "import numpy as np\n",
    "import matplotlib.pyplot as plt\n",
    "import seaborn as sns"
   ]
  },
  {
   "cell_type": "code",
   "execution_count": 19,
   "metadata": {},
   "outputs": [
    {
     "data": {
      "text/plain": [
       "'\\n数据参数\\n\\nOrderNumber：客户昵称\\nLineNumber：购买顺序，如前三行分别表示同一个客户购买的三样商品的顺序\\nModel：商品名\\n'"
      ]
     },
     "execution_count": 19,
     "metadata": {},
     "output_type": "execute_result"
    }
   ],
   "source": [
    "# %matplotlib inline\n",
    "# 各种细节配置如 文字大小，图例文字等杂项\n",
    "large = 22; med = 16; small = 12\n",
    "params = {'axes.titlesize': large,\n",
    "          'legend.fontsize': med,\n",
    "          'figure.figsize': (16, 10),\n",
    "          'axes.labelsize': med,\n",
    "          'axes.titlesize': med,\n",
    "          'xtick.labelsize': med,\n",
    "          'ytick.labelsize': med,\n",
    "          'figure.titlesize': large}\n",
    "plt.rcParams.update(params)\n",
    "plt.style.use('seaborn-whitegrid')\n",
    "sns.set_style(\"white\")\n",
    "plt.rc('font', **{'family': 'Microsoft YaHei, SimHei'})  # 设置中文字体的支持\n",
    "# sns.set(font='SimHei')  # 解决Seaborn中文显示问题，但会自动添加背景灰色网格\n",
    "\n",
    "plt.rcParams['axes.unicode_minus'] = False\n",
    "# 解决保存图像是负号'-'显示为方块的问题\n",
    "\n",
    "\"\"\"\n",
    "数据参数\n",
    "\n",
    "OrderNumber：客户昵称\n",
    "LineNumber：购买顺序，如前三行分别表示同一个客户购买的三样商品的顺序\n",
    "Model：商品名\n",
    "\"\"\""
   ]
  },
  {
   "cell_type": "code",
   "execution_count": 20,
   "metadata": {},
   "outputs": [
    {
     "name": "stdout",
     "output_type": "stream",
     "text": [
      "<class 'pandas.core.frame.DataFrame'>\n",
      "RangeIndex: 52761 entries, 0 to 52760\n",
      "Data columns (total 3 columns):\n",
      " #   Column       Non-Null Count  Dtype \n",
      "---  ------       --------------  ----- \n",
      " 0   OrderNumber  52761 non-null  object\n",
      " 1   LineNumber   52761 non-null  int64 \n",
      " 2   Model        52761 non-null  object\n",
      "dtypes: int64(1), object(2)\n",
      "memory usage: 1.2+ MB\n"
     ]
    },
    {
     "data": {
      "text/html": [
       "<div>\n",
       "<style scoped>\n",
       "    .dataframe tbody tr th:only-of-type {\n",
       "        vertical-align: middle;\n",
       "    }\n",
       "\n",
       "    .dataframe tbody tr th {\n",
       "        vertical-align: top;\n",
       "    }\n",
       "\n",
       "    .dataframe thead th {\n",
       "        text-align: right;\n",
       "    }\n",
       "</style>\n",
       "<table border=\"1\" class=\"dataframe\">\n",
       "  <thead>\n",
       "    <tr style=\"text-align: right;\">\n",
       "      <th></th>\n",
       "      <th>OrderNumber</th>\n",
       "      <th>LineNumber</th>\n",
       "      <th>Model</th>\n",
       "    </tr>\n",
       "  </thead>\n",
       "  <tbody>\n",
       "    <tr>\n",
       "      <th>0</th>\n",
       "      <td>cumid51178</td>\n",
       "      <td>1</td>\n",
       "      <td>山地英骑</td>\n",
       "    </tr>\n",
       "    <tr>\n",
       "      <th>1</th>\n",
       "      <td>cumid51178</td>\n",
       "      <td>2</td>\n",
       "      <td>山地车水壶架</td>\n",
       "    </tr>\n",
       "    <tr>\n",
       "      <th>2</th>\n",
       "      <td>cumid51178</td>\n",
       "      <td>3</td>\n",
       "      <td>运动水壶</td>\n",
       "    </tr>\n",
       "    <tr>\n",
       "      <th>3</th>\n",
       "      <td>cumid51184</td>\n",
       "      <td>1</td>\n",
       "      <td>山地英骑</td>\n",
       "    </tr>\n",
       "    <tr>\n",
       "      <th>4</th>\n",
       "      <td>cumid51184</td>\n",
       "      <td>2</td>\n",
       "      <td>hl山地外胎</td>\n",
       "    </tr>\n",
       "  </tbody>\n",
       "</table>\n",
       "</div>"
      ],
      "text/plain": [
       "  OrderNumber  LineNumber   Model\n",
       "0  cumid51178           1    山地英骑\n",
       "1  cumid51178           2  山地车水壶架\n",
       "2  cumid51178           3    运动水壶\n",
       "3  cumid51184           1    山地英骑\n",
       "4  cumid51184           2  hl山地外胎"
      ]
     },
     "execution_count": 20,
     "metadata": {},
     "output_type": "execute_result"
    }
   ],
   "source": [
    "df = pd.read_csv(r'E:\\MyJPY\\Datas\\zntj\\bike_data.csv', encoding='gbk')\n",
    "df.info(); df.head()"
   ]
  },
  {
   "cell_type": "markdown",
   "metadata": {},
   "source": [
    "### 探索性数据分析"
   ]
  },
  {
   "cell_type": "code",
   "execution_count": 21,
   "metadata": {},
   "outputs": [
    {
     "data": {
      "text/plain": [
       "0"
      ]
     },
     "execution_count": 21,
     "metadata": {},
     "output_type": "execute_result"
    }
   ],
   "source": [
    "# 检查重复值\n",
    "df.duplicated().sum()"
   ]
  },
  {
   "cell_type": "code",
   "execution_count": 22,
   "metadata": {},
   "outputs": [
    {
     "name": "stdout",
     "output_type": "stream",
     "text": [
      "数据集中共有37种商品\n",
      "商品名分别为：\n",
      "['山地英骑' '山地车水壶架' '运动水壶' 'hl山地外胎' '山地车内胎']\n",
      "['运动型头盔' '普通公路车' '公路车内胎' 'hl公路外胎' '竞速公路车']\n",
      "['公路车水壶架' '长袖骑车衣' '山地车挡泥板' '自行车帽' '山地车400']\n",
      "['ml山地外胎' '修补工具' '山地车500' '公路车550' '短袖经典车衣']\n",
      "['旅游型自行车(大)' '竞速袜' '半掌手套' '公路车350' 'ml公路外胎']\n",
      "['水壶包' '旅游型自行车(小)' '旅游型自行车(中)' '旅游车内胎' 'll公路车外胎']\n",
      "['旅游自行车外胎(通用)' '万能自行车座' '洗车喷剂' '经典背心' 'll山地胎']\n",
      "['故障栓钩' \"Women's Mountain Shorts\"]\n"
     ]
    }
   ],
   "source": [
    "# 商品种类探索\n",
    "print(f\"数据集中共有{df['Model'].nunique()}种商品\")\n",
    "\n",
    "model_names = df['Model'].unique()\n",
    "print(\"商品名分别为：\")\n",
    "# 5 个为一行显示\n",
    "for i in range(0, len(model_names), 5):\n",
    "      print(model_names[i:i+5])"
   ]
  },
  {
   "cell_type": "code",
   "execution_count": 23,
   "metadata": {},
   "outputs": [
    {
     "data": {
      "text/html": [
       "<div>\n",
       "<style scoped>\n",
       "    .dataframe tbody tr th:only-of-type {\n",
       "        vertical-align: middle;\n",
       "    }\n",
       "\n",
       "    .dataframe tbody tr th {\n",
       "        vertical-align: top;\n",
       "    }\n",
       "\n",
       "    .dataframe thead th {\n",
       "        text-align: right;\n",
       "    }\n",
       "</style>\n",
       "<table border=\"1\" class=\"dataframe\">\n",
       "  <thead>\n",
       "    <tr style=\"text-align: right;\">\n",
       "      <th></th>\n",
       "      <th>Model</th>\n",
       "      <th>count</th>\n",
       "    </tr>\n",
       "  </thead>\n",
       "  <tbody>\n",
       "    <tr>\n",
       "      <th>0</th>\n",
       "      <td>Women's Mountain Shorts</td>\n",
       "      <td>958</td>\n",
       "    </tr>\n",
       "    <tr>\n",
       "      <th>1</th>\n",
       "      <td>hl公路外胎</td>\n",
       "      <td>804</td>\n",
       "    </tr>\n",
       "    <tr>\n",
       "      <th>2</th>\n",
       "      <td>hl山地外胎</td>\n",
       "      <td>1331</td>\n",
       "    </tr>\n",
       "    <tr>\n",
       "      <th>3</th>\n",
       "      <td>ll公路车外胎</td>\n",
       "      <td>980</td>\n",
       "    </tr>\n",
       "    <tr>\n",
       "      <th>4</th>\n",
       "      <td>ll山地胎</td>\n",
       "      <td>799</td>\n",
       "    </tr>\n",
       "  </tbody>\n",
       "</table>\n",
       "</div>"
      ],
      "text/plain": [
       "                     Model  count\n",
       "0  Women's Mountain Shorts    958\n",
       "1                   hl公路外胎    804\n",
       "2                   hl山地外胎   1331\n",
       "3                  ll公路车外胎    980\n",
       "4                    ll山地胎    799"
      ]
     },
     "execution_count": 23,
     "metadata": {},
     "output_type": "execute_result"
    }
   ],
   "source": [
    "# 最畅销的 15 种商品\n",
    " ## 往 reset_index 中添加 name 参数可快速重命名列名\n",
    "grouped = df.groupby('Model')['Model'].count().reset_index(name='count')\n",
    "grouped.head()"
   ]
  },
  {
   "cell_type": "code",
   "execution_count": 24,
   "metadata": {},
   "outputs": [
    {
     "data": {
      "image/png": "[encoded data removed]",
      "text/plain": [
       "<Figure size 576x432 with 1 Axes>"
      ]
     },
     "metadata": {},
     "output_type": "display_data"
    }
   ],
   "source": [
    "top_15 = grouped.sort_values(by='count', ascending=False).head(15)\n",
    "\n",
    "plt.figure(figsize=(8, 6))\n",
    "sns.barplot(data=top_15, x='count', y='Model')\n",
    "plt.grid(True)"
   ]
  },
  {
   "cell_type": "code",
   "execution_count": 25,
   "metadata": {},
   "outputs": [
    {
     "name": "stdout",
     "output_type": "stream",
     "text": [
      "初步分析，该自行车店的排名前15的畅销单品为如下：\n",
      "['运动型头盔', '运动水壶', '修补工具', '山地车内胎', '山地英骑']\n",
      "['公路车内胎', '自行车帽', '山地车挡泥板', '山地车水壶架', '公路车水壶架']\n",
      "['长袖骑车衣', '短袖经典车衣', '竞速公路车', '旅游车内胎', '半掌手套']\n"
     ]
    }
   ],
   "source": [
    "top_15 = top_15['Model'].tolist()\n",
    "print('初步分析，该自行车店的排名前15的畅销单品为如下：')\n",
    "for i in range(0, len(top_15), 5):\n",
    "    print(top_15[i:i+5])"
   ]
  },
  {
   "cell_type": "markdown",
   "metadata": {},
   "source": [
    "### 使用 Apriori 算法求解关联规则\n",
    "由于有关Apriori等算法的研究已经很成熟，我们在用Python实战时无需一步一步计算，直接调用现有函数即可，主要是要明白背后的原理与不同算法的使用场景与优劣比较。"
   ]
  },
  {
   "cell_type": "code",
   "execution_count": 26,
   "metadata": {},
   "outputs": [
    {
     "ename": "ModuleNotFoundError",
     "evalue": "No module named 'Apriori'",
     "output_type": "error",
     "traceback": [
      "\u001b[1;31m---------------------------------------------------------------------------\u001b[0m",
      "\u001b[1;31mModuleNotFoundError\u001b[0m                       Traceback (most recent call last)",
      "\u001b[1;32m<ipython-input-26-d4420819b6cb>\u001b[0m in \u001b[0;36m<module>\u001b[1;34m\u001b[0m\n\u001b[1;32m----> 1\u001b[1;33m \u001b[1;32mimport\u001b[0m \u001b[0mApriori\u001b[0m \u001b[1;32mas\u001b[0m \u001b[0mapri\u001b[0m\u001b[1;33m\u001b[0m\u001b[1;33m\u001b[0m\u001b[0m\n\u001b[0m\u001b[0;32m      2\u001b[0m \u001b[1;33m\u001b[0m\u001b[0m\n\u001b[0;32m      3\u001b[0m \u001b[1;31m# 需要稍微等待一下\u001b[0m\u001b[1;33m\u001b[0m\u001b[1;33m\u001b[0m\u001b[1;33m\u001b[0m\u001b[0m\n\u001b[0;32m      4\u001b[0m baskets = apri.dataconvert(arulesdata=df, tidvar='OrderNumber', \n\u001b[0;32m      5\u001b[0m                            itemvar='Model', data_type='inverted')\n",
      "\u001b[1;31mModuleNotFoundError\u001b[0m: No module named 'Apriori'"
     ]
    }
   ],
   "source": [
    "import Apriori as apri\n",
    "\n",
    "# 需要稍微等待一下\n",
    "baskets = apri.dataconvert(arulesdata=df, tidvar='OrderNumber', \n",
    "                           itemvar='Model', data_type='inverted')"
   ]
  },
  {
   "cell_type": "code",
   "execution_count": null,
   "metadata": {},
   "outputs": [],
   "source": []
  },
  {
   "cell_type": "code",
   "execution_count": null,
   "metadata": {},
   "outputs": [],
   "source": []
  },
  {
   "cell_type": "code",
   "execution_count": null,
   "metadata": {},
   "outputs": [],
   "source": []
  },
  {
   "cell_type": "code",
   "execution_count": null,
   "metadata": {},
   "outputs": [],
   "source": []
  },
  {
   "cell_type": "code",
   "execution_count": null,
   "metadata": {},
   "outputs": [],
   "source": []
  },
  {
   "cell_type": "code",
   "execution_count": null,
   "metadata": {},
   "outputs": [],
   "source": []
  },
  {
   "cell_type": "code",
   "execution_count": null,
   "metadata": {},
   "outputs": [],
   "source": []
  },
  {
   "cell_type": "code",
   "execution_count": null,
   "metadata": {},
   "outputs": [],
   "source": []
  },
  {
   "cell_type": "code",
   "execution_count": null,
   "metadata": {},
   "outputs": [],
   "source": []
  },
  {
   "cell_type": "code",
   "execution_count": null,
   "metadata": {},
   "outputs": [],
   "source": []
  },
  {
   "cell_type": "code",
   "execution_count": null,
   "metadata": {},
   "outputs": [],
   "source": []
  },
  {
   "cell_type": "code",
   "execution_count": null,
   "metadata": {},
   "outputs": [],
   "source": []
  },
  {
   "cell_type": "code",
   "execution_count": null,
   "metadata": {},
   "outputs": [],
   "source": []
  },
  {
   "cell_type": "code",
   "execution_count": null,
   "metadata": {},
   "outputs": [],
   "source": []
  },
  {
   "cell_type": "code",
   "execution_count": null,
   "metadata": {},
   "outputs": [],
   "source": []
  },
  {
   "cell_type": "code",
   "execution_count": null,
   "metadata": {},
   "outputs": [],
   "source": []
  },
  {
   "cell_type": "code",
   "execution_count": null,
   "metadata": {},
   "outputs": [],
   "source": []
  },
  {
   "cell_type": "code",
   "execution_count": null,
   "metadata": {},
   "outputs": [],
   "source": []
  },
  {
   "cell_type": "code",
   "execution_count": null,
   "metadata": {},
   "outputs": [],
   "source": []
  },
  {
   "cell_type": "code",
   "execution_count": null,
   "metadata": {},
   "outputs": [],
   "source": []
  },
  {
   "cell_type": "code",
   "execution_count": null,
   "metadata": {},
   "outputs": [],
   "source": []
  },
  {
   "cell_type": "code",
   "execution_count": null,
   "metadata": {},
   "outputs": [],
   "source": []
  },
  {
   "cell_type": "code",
   "execution_count": null,
   "metadata": {},
   "outputs": [],
   "source": []
  },
  {
   "cell_type": "code",
   "execution_count": null,
   "metadata": {},
   "outputs": [],
   "source": []
  },
  {
   "cell_type": "code",
   "execution_count": null,
   "metadata": {},
   "outputs": [],
   "source": []
  },
  {
   "cell_type": "code",
   "execution_count": null,
   "metadata": {},
   "outputs": [],
   "source": []
  },
  {
   "cell_type": "code",
   "execution_count": null,
   "metadata": {},
   "outputs": [],
   "source": []
  }
 ],
 "metadata": {
  "kernelspec": {
   "display_name": "Python 3",
   "language": "python",
   "name": "python3"
  },
  "language_info": {
   "codemirror_mode": {
    "name": "ipython",
    "version": 3
   },
   "file_extension": ".py",
   "mimetype": "text/x-python",
   "name": "python",
   "nbconvert_exporter": "python",
   "pygments_lexer": "ipython3",
   "version": "3.7.7"
  }
 },
 "nbformat": 4,
 "nbformat_minor": 4
}
